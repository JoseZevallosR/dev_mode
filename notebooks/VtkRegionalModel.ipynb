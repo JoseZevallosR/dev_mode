{
 "cells": [
  {
   "cell_type": "code",
   "execution_count": 3,
   "id": "cdbbad17",
   "metadata": {},
   "outputs": [],
   "source": [
    "import os, re, sys, flopy\n",
    "import numpy as np\n",
    "np.set_printoptions(precision=4, suppress=True)\n",
    "\n",
    "%config Completer.use_jedi = False #for auto complete code"
   ]
  },
  {
   "cell_type": "code",
   "execution_count": 2,
   "id": "fab22381",
   "metadata": {},
   "outputs": [],
   "source": [
    "model_name = 'regional_model'\n",
    "model_ws = '../examples/out/angascancha/model'\n",
    "exe_name = '../exe/mf6.exe'"
   ]
  },
  {
   "cell_type": "code",
   "execution_count": 6,
   "id": "8d5563bc",
   "metadata": {},
   "outputs": [
    {
     "ename": "ValueError",
     "evalue": "line number 2 has fewer than 3 items: BEGIN options",
     "output_type": "error",
     "traceback": [
      "\u001b[1;31m---------------------------------------------------------------------------\u001b[0m",
      "\u001b[1;31mValueError\u001b[0m                                Traceback (most recent call last)",
      "Input \u001b[1;32mIn [6]\u001b[0m, in \u001b[0;36m<cell line: 1>\u001b[1;34m()\u001b[0m\n\u001b[1;32m----> 1\u001b[0m modelObject \u001b[38;5;241m=\u001b[39m \u001b[43mflopy\u001b[49m\u001b[38;5;241;43m.\u001b[39;49m\u001b[43mmodflow\u001b[49m\u001b[38;5;241;43m.\u001b[39;49m\u001b[43mModflow\u001b[49m\u001b[38;5;241;43m.\u001b[39;49m\u001b[43mload\u001b[49m\u001b[43m(\u001b[49m\u001b[38;5;124;43m'\u001b[39;49m\u001b[38;5;124;43mmfsim\u001b[39;49m\u001b[38;5;124;43m'\u001b[39;49m\u001b[38;5;241;43m+\u001b[39;49m\u001b[38;5;124;43m'\u001b[39;49m\u001b[38;5;124;43m.nam\u001b[39;49m\u001b[38;5;124;43m'\u001b[39;49m\u001b[43m,\u001b[49m\u001b[43mmodel_ws\u001b[49m\u001b[38;5;241;43m=\u001b[39;49m\u001b[43mmodel_ws\u001b[49m\u001b[43m,\u001b[49m\u001b[43mexe_name\u001b[49m\u001b[38;5;241;43m=\u001b[39;49m\u001b[43mexe_name\u001b[49m\u001b[43m)\u001b[49m\n",
      "File \u001b[1;32m~\\anaconda3\\envs\\work_env\\lib\\site-packages\\flopy\\modflow\\mf.py:733\u001b[0m, in \u001b[0;36mModflow.load\u001b[1;34m(cls, f, version, exe_name, verbose, model_ws, load_only, forgive, check)\u001b[0m\n\u001b[0;32m    730\u001b[0m files_not_loaded \u001b[38;5;241m=\u001b[39m []\n\u001b[0;32m    732\u001b[0m \u001b[38;5;66;03m# read name file\u001b[39;00m\n\u001b[1;32m--> 733\u001b[0m ext_unit_dict \u001b[38;5;241m=\u001b[39m \u001b[43mmfreadnam\u001b[49m\u001b[38;5;241;43m.\u001b[39;49m\u001b[43mparsenamefile\u001b[49m\u001b[43m(\u001b[49m\n\u001b[0;32m    734\u001b[0m \u001b[43m    \u001b[49m\u001b[43mnamefile_path\u001b[49m\u001b[43m,\u001b[49m\u001b[43m \u001b[49m\u001b[43mml\u001b[49m\u001b[38;5;241;43m.\u001b[39;49m\u001b[43mmfnam_packages\u001b[49m\u001b[43m,\u001b[49m\u001b[43m \u001b[49m\u001b[43mverbose\u001b[49m\u001b[38;5;241;43m=\u001b[39;49m\u001b[43mverbose\u001b[49m\n\u001b[0;32m    735\u001b[0m \u001b[43m\u001b[49m\u001b[43m)\u001b[49m\n\u001b[0;32m    736\u001b[0m \u001b[38;5;28;01mif\u001b[39;00m ml\u001b[38;5;241m.\u001b[39mverbose:\n\u001b[0;32m    737\u001b[0m     \u001b[38;5;28mprint\u001b[39m(\n\u001b[0;32m    738\u001b[0m         \u001b[38;5;124m\"\u001b[39m\u001b[38;5;130;01m\\n\u001b[39;00m\u001b[38;5;132;01m{}\u001b[39;00m\u001b[38;5;130;01m\\n\u001b[39;00m\u001b[38;5;124mExternal unit dictionary:\u001b[39m\u001b[38;5;130;01m\\n\u001b[39;00m\u001b[38;5;132;01m{}\u001b[39;00m\u001b[38;5;130;01m\\n\u001b[39;00m\u001b[38;5;132;01m{}\u001b[39;00m\u001b[38;5;130;01m\\n\u001b[39;00m\u001b[38;5;124m\"\u001b[39m\u001b[38;5;241m.\u001b[39mformat(\n\u001b[0;32m    739\u001b[0m             \u001b[38;5;241m50\u001b[39m \u001b[38;5;241m*\u001b[39m \u001b[38;5;124m\"\u001b[39m\u001b[38;5;124m-\u001b[39m\u001b[38;5;124m\"\u001b[39m, ext_unit_dict, \u001b[38;5;241m50\u001b[39m \u001b[38;5;241m*\u001b[39m \u001b[38;5;124m\"\u001b[39m\u001b[38;5;124m-\u001b[39m\u001b[38;5;124m\"\u001b[39m\n\u001b[0;32m    740\u001b[0m         )\n\u001b[0;32m    741\u001b[0m     )\n",
      "File \u001b[1;32m~\\anaconda3\\envs\\work_env\\lib\\site-packages\\flopy\\utils\\mfreadnam.py:144\u001b[0m, in \u001b[0;36mparsenamefile\u001b[1;34m(namfilename, packages, verbose)\u001b[0m\n\u001b[0;32m    142\u001b[0m \u001b[38;5;28;01mif\u001b[39;00m \u001b[38;5;28mlen\u001b[39m(items) \u001b[38;5;241m<\u001b[39m \u001b[38;5;241m3\u001b[39m:\n\u001b[0;32m    143\u001b[0m     e \u001b[38;5;241m=\u001b[39m \u001b[38;5;124mf\u001b[39m\u001b[38;5;124m\"\u001b[39m\u001b[38;5;124mline number \u001b[39m\u001b[38;5;132;01m{\u001b[39;00mln\u001b[38;5;132;01m}\u001b[39;00m\u001b[38;5;124m has fewer than 3 items: \u001b[39m\u001b[38;5;132;01m{\u001b[39;00mline\u001b[38;5;132;01m}\u001b[39;00m\u001b[38;5;124m\"\u001b[39m\n\u001b[1;32m--> 144\u001b[0m     \u001b[38;5;28;01mraise\u001b[39;00m \u001b[38;5;167;01mValueError\u001b[39;00m(e)\n\u001b[0;32m    145\u001b[0m ftype, key, fpath \u001b[38;5;241m=\u001b[39m items[\u001b[38;5;241m0\u001b[39m:\u001b[38;5;241m3\u001b[39m]\n\u001b[0;32m    146\u001b[0m ftype \u001b[38;5;241m=\u001b[39m ftype\u001b[38;5;241m.\u001b[39mupper()\n",
      "\u001b[1;31mValueError\u001b[0m: line number 2 has fewer than 3 items: BEGIN options"
     ]
    }
   ],
   "source": [
    "modelObject = flopy.modflow.Modflow.load('mfsim'+'.nam',model_ws=model_ws,exe_name=exe_name)"
   ]
  },
  {
   "cell_type": "code",
   "execution_count": null,
   "id": "697d9be2",
   "metadata": {},
   "outputs": [],
   "source": []
  }
 ],
 "metadata": {
  "kernelspec": {
   "display_name": "Python 3 (ipykernel)",
   "language": "python",
   "name": "python3"
  },
  "language_info": {
   "codemirror_mode": {
    "name": "ipython",
    "version": 3
   },
   "file_extension": ".py",
   "mimetype": "text/x-python",
   "name": "python",
   "nbconvert_exporter": "python",
   "pygments_lexer": "ipython3",
   "version": "3.8.5"
  }
 },
 "nbformat": 4,
 "nbformat_minor": 5
}
