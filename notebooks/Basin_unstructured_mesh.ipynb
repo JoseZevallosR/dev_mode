{
 "cells": [
  {
   "cell_type": "code",
   "execution_count": 1,
   "id": "ef929095",
   "metadata": {},
   "outputs": [
    {
     "name": "stdout",
     "output_type": "stream",
     "text": [
      "\n",
      "/--------Sumary of cell discretization-------/\n",
      "Maximun refinement: 500.00 m.\n",
      "Minimum refinement: 50.00 m.\n",
      "Cell size list: [500.  387.5 275.  162.5  50. ] m.\n",
      "/--------------------------------------------/\n",
      "\n",
      "\n",
      "/----Sumary of points for voronoi meshing----/\n",
      "Distributed points from layers: 3436\n",
      "Points from layer buffers: 10383\n",
      "Points from max refinement areas: 436\n",
      "Points from min refinement areas: 0\n",
      "Total points inside the limit: 14194\n",
      "/--------------------------------------------/\n",
      "\n",
      "Time required for point generation: 11.75 seconds \n",
      "\n"
     ]
    },
    {
     "name": "stderr",
     "output_type": "stream",
     "text": [
      "C:\\Users\\jose\\anaconda3\\envs\\work_env\\lib\\site-packages\\shapely\\geometry\\multipolygon.py:202: ShapelyDeprecationWarning: __getitem__ for multi-part geometries is deprecated and will be removed in Shapely 2.0. Use the `geoms` property to access the constituent parts of a multi-part geometry.\n",
      "  shell = ob[0]\n",
      "C:\\Users\\jose\\anaconda3\\envs\\work_env\\lib\\site-packages\\shapely\\geometry\\multipolygon.py:203: ShapelyDeprecationWarning: __getitem__ for multi-part geometries is deprecated and will be removed in Shapely 2.0. Use the `geoms` property to access the constituent parts of a multi-part geometry.\n",
      "  holes = ob[1]\n"
     ]
    },
    {
     "name": "stdout",
     "output_type": "stream",
     "text": [
      "The output folder ../examples/out/angascancha exists\n"
     ]
    }
   ],
   "source": [
    "import os\n",
    "import sys\n",
    "#adding path to source directory\n",
    "sys.path.insert(0, 'd:/Proyectos_GitHub/dev_mode/src')\n",
    "\n",
    "from geoVoronoi import createVoronoi\n",
    "\n",
    "#Create mesh object\n",
    "vorMesh = createVoronoi()\n",
    "\n",
    "#Define base refinement and refinement levels\n",
    "vorMesh.defineParameters(maxRef = 500, minRef=50, stages=5)\n",
    "\n",
    "#Open limit layers and refinement definition layers\n",
    "vorMesh.addLimit('basin','../examples/In/shp/Angascancha_Basin_Extension.shp')\n",
    "vorMesh.addLayer('facilities','../examples/In/shp/rios.shp')\n",
    "\n",
    "#Generate point pair array\n",
    "vorMesh.extractOrgVertices()\n",
    "\n",
    "#Generate the point cloud and voronoi\n",
    "vorMesh.createPointCloud()\n",
    "vorMesh.generateVoronoi()\n",
    "\n",
    "#check or create an output folder\n",
    "outPath = '../examples/out/angascancha'\n",
    "if os.path.isdir(outPath):\n",
    "    print('The output folder %s exists'%outPath)\n",
    "else:\n",
    "    os.mkdir(outPath)\n",
    "    print('The output folder %s has been generated.'%outPath)\n",
    "\n",
    "#Export point data and voronoi polygons\n",
    "#Points\n",
    "vorMesh.getPointsAsShp('vertexOrg',outPath+'/vertexOrg.shp')\n",
    "vorMesh.getPointsAsShp('vertexDist',outPath+'/vertexDist.shp')\n",
    "vorMesh.getPointsAsShp('vertexBuffer',outPath+'/vertexBuffer.shp')\n",
    "vorMesh.getPointsAsShp('vertexMaxRef',outPath+'/vertexMaxRef.shp')\n",
    "vorMesh.getPointsAsShp('vertexMinRef',outPath+'/vertexMinRef.shp')\n",
    "vorMesh.getPointsAsShp('vertexTotal',outPath+'/vertexTotal.shp')\n",
    "#Polygons\n",
    "\n",
    "vorMesh.getPolyAsShp('voronoiRegions',outPath+'/voronoiRegions.shp')\n"
   ]
  },
  {
   "cell_type": "code",
   "execution_count": null,
   "id": "27ffacfc",
   "metadata": {},
   "outputs": [],
   "source": []
  }
 ],
 "metadata": {
  "kernelspec": {
   "display_name": "Python 3 (ipykernel)",
   "language": "python",
   "name": "python3"
  },
  "language_info": {
   "codemirror_mode": {
    "name": "ipython",
    "version": 3
   },
   "file_extension": ".py",
   "mimetype": "text/x-python",
   "name": "python",
   "nbconvert_exporter": "python",
   "pygments_lexer": "ipython3",
   "version": "3.8.5"
  }
 },
 "nbformat": 4,
 "nbformat_minor": 5
}
