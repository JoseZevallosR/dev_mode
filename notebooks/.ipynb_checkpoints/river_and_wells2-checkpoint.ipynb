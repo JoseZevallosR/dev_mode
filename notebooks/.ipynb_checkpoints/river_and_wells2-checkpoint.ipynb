{
 "cells": [
  {
   "cell_type": "code",
   "execution_count": 1,
   "id": "07204203",
   "metadata": {},
   "outputs": [],
   "source": [
    "%config Completer.use_jedi = False #for auto complete code"
   ]
  },
  {
   "cell_type": "code",
   "execution_count": 2,
   "id": "5b0dce8f",
   "metadata": {},
   "outputs": [
    {
     "name": "stdout",
     "output_type": "stream",
     "text": [
      "\n",
      "/--------Sumary of cell discretization-------/\n",
      "Maximun refinement: 80.00 m.\n",
      "Minimum refinement: 20.00 m.\n",
      "Cell size list: [80. 65. 50. 35. 20.] m.\n",
      "/--------------------------------------------/\n",
      "\n"
     ]
    }
   ],
   "source": [
    "from scipy.interpolate import griddata\n",
    "from osgeo import osr\n",
    "from osgeo import gdal\n",
    "from osgeo import gdal_array\n",
    "import rasterio\n",
    "from rasterio.transform import from_origin\n",
    "import geopandas as gpd\n",
    "\n",
    "from shapely.geometry import mapping\n",
    "from shapely.geometry import Polygon, Point, MultiLineString, MultiPoint\n",
    "from collections import OrderedDict\n",
    "import pandas as pd\n",
    "import numpy as np\n",
    "\n",
    "#plots\n",
    "import matplotlib.pyplot as plt\n",
    "\n",
    "#modflow\n",
    "import flopy\n",
    "import flopy.discretization as fgrid\n",
    "import flopy.plot as fplot\n",
    "from flopy.utils.gridintersect import GridIntersect\n",
    "import flopy.utils.binaryfile as bf\n",
    "\n",
    "import os, json\n",
    "\n",
    "import mplleaflet\n",
    "\n",
    "import sys\n",
    "sys.path.insert(0, '../src')\n",
    "from meshProperties import mesh_shape\n",
    "from geoVoronoi import createVoronoi\n",
    "#Create mesh object\n",
    "vorMesh = createVoronoi()\n",
    "\n",
    "#Define base refinement and refinement levels\n",
    "vorMesh.defineParameters(maxRef = 80, minRef=20, stages=5)"
   ]
  },
  {
   "cell_type": "code",
   "execution_count": 3,
   "id": "8e3e7af9",
   "metadata": {},
   "outputs": [],
   "source": [
    "#Open limit layers and refinement definition layers\n",
    "vorMesh.addLimit('basin','../examples/In/shp/Geospatial_model/ModelLimit1.shp')\n",
    "vorMesh.addLayer('wells','../examples/In/shp/Geospatial_model/ModelWell2.shp')\n",
    "vorMesh.addLayer('river','../examples/In/shp/Geospatial_model/ModelRiver2.shp')"
   ]
  },
  {
   "cell_type": "code",
   "execution_count": 4,
   "id": "5544847e",
   "metadata": {},
   "outputs": [
    {
     "name": "stdout",
     "output_type": "stream",
     "text": [
      "\n",
      "/----Sumary of points for voronoi meshing----/\n",
      "Distributed points from layers: 342\n",
      "Points from layer buffers: 955\n",
      "Points from max refinement areas: 707\n",
      "Points from min refinement areas: 330\n",
      "Total points inside the limit: 2302\n",
      "/--------------------------------------------/\n",
      "\n",
      "Time required for point generation: 0.61 seconds \n",
      "\n",
      "The output folder ../examples/out/geospacial exists\n"
     ]
    }
   ],
   "source": [
    "#Generate point pair array\n",
    "vorMesh.extractOrgVertices()\n",
    "\n",
    "#Generate the point cloud and voronoi\n",
    "vorMesh.createPointCloud()\n",
    "vorMesh.generateVoronoi()\n",
    "\n",
    "#check or create an output folder\n",
    "outPath = '../examples/out/geospacial'\n",
    "if os.path.isdir(outPath):\n",
    "    print('The output folder %s exists'%outPath)\n",
    "else:\n",
    "    os.mkdir(outPath)\n",
    "    print('The output folder %s has been generated.'%outPath)\n",
    "\n",
    "#Export point data and voronoi polygons\n",
    "#Points\n",
    "vorMesh.getPointsAsShp('vertexOrg',outPath+'/vertexOrg.shp')\n",
    "vorMesh.getPointsAsShp('vertexDist',outPath+'/vertexDist.shp')\n",
    "vorMesh.getPointsAsShp('vertexBuffer',outPath+'/vertexBuffer.shp')\n",
    "vorMesh.getPointsAsShp('vertexMaxRef',outPath+'/vertexMaxRef.shp')\n",
    "vorMesh.getPointsAsShp('vertexMinRef',outPath+'/vertexMinRef.shp')\n",
    "vorMesh.getPointsAsShp('vertexTotal',outPath+'/vertexTotal.shp')\n",
    "#Polygons\n",
    "\n",
    "vorMesh.getPolyAsShp('voronoiRegions',outPath+'/voronoiRegions.shp')"
   ]
  },
  {
   "cell_type": "markdown",
   "id": "a1fbf91f",
   "metadata": {},
   "source": [
    "# DISV"
   ]
  },
  {
   "cell_type": "code",
   "execution_count": 5,
   "id": "e278b65f",
   "metadata": {},
   "outputs": [
    {
     "name": "stderr",
     "output_type": "stream",
     "text": [
      "100%|███████████████████████████████████████████████████████████████████████████| 2302/2302 [00:00<00:00, 28722.98it/s]\n",
      " 17%|█████████████▎                                                               | 397/2302 [00:00<00:00, 3969.11it/s]"
     ]
    },
    {
     "name": "stdout",
     "output_type": "stream",
     "text": [
      "\n",
      "Creating a unique list of vertices [[x1,y1],[x2,y2],...]\n",
      "\n",
      "Extracting cell2d data and grid index\n"
     ]
    },
    {
     "name": "stderr",
     "output_type": "stream",
     "text": [
      "100%|████████████████████████████████████████████████████████████████████████████| 2302/2302 [00:00<00:00, 3906.71it/s]\n"
     ]
    }
   ],
   "source": [
    "mesh=mesh_shape('../examples/out/geospacial/voronoiRegions.shp')\n",
    "gridprops=mesh.get_gridprops_disv()"
   ]
  },
  {
   "cell_type": "code",
   "execution_count": 6,
   "id": "92dd88b4",
   "metadata": {},
   "outputs": [],
   "source": [
    "cell2d = gridprops['cell2d']\n",
    "vertices = gridprops['vertices']\n",
    "ncpl = gridprops['ncpl']\n",
    "nvert = gridprops['nvert']\n",
    "centroids=gridprops['centroids']"
   ]
  },
  {
   "cell_type": "markdown",
   "id": "be729e0d",
   "metadata": {},
   "source": [
    "# Geometria del Acuifero"
   ]
  },
  {
   "cell_type": "code",
   "execution_count": 7,
   "id": "3f1e54c2",
   "metadata": {},
   "outputs": [],
   "source": [
    "#Extact dem values for each centroid of the voronois\n",
    "src = rasterio.open('../examples/in/rst/ModeloDem1.tif')\n",
    "elevation=[x for x in src.sample(centroids)]\n",
    "\n",
    "nlay = 3\n",
    "\n",
    "mtop=np.array([elev[0] for i,elev in enumerate(elevation)])\n",
    "\n",
    "zbot=np.zeros((nlay,ncpl))\n",
    "\n",
    "AcuifInf_Bottom = -120\n",
    "\n",
    "AcuifMed_Bottom = AcuifInf_Bottom + (0.5 * (mtop - AcuifInf_Bottom))\n",
    "\n",
    "AcuifSup_Bottom = AcuifInf_Bottom + (0.75 * (mtop - AcuifInf_Bottom))\n",
    "\n",
    "\n",
    "zbot[0,] = AcuifSup_Bottom \n",
    "zbot[1,] = AcuifMed_Bottom\n",
    "zbot[2,] = AcuifInf_Bottom"
   ]
  },
  {
   "cell_type": "markdown",
   "id": "1338f0c6",
   "metadata": {},
   "source": [
    "# Creación del modelo Modflow 6"
   ]
  },
  {
   "cell_type": "code",
   "execution_count": 8,
   "id": "9b6cb643",
   "metadata": {},
   "outputs": [],
   "source": [
    "# create simulation\n",
    "model_name = 'geo_model'\n",
    "model_ws = '../examples/out/geospacial/model'\n",
    "exe_name = '../exe/mf6.exe'\n",
    "\n",
    "sim = flopy.mf6.MFSimulation(sim_name=model_name, version='mf6', exe_name=exe_name,sim_ws=model_ws)"
   ]
  },
  {
   "cell_type": "code",
   "execution_count": 9,
   "id": "c977d626",
   "metadata": {},
   "outputs": [],
   "source": [
    "# create tdis package\n",
    "\n",
    "nper = 11\n",
    "tdis_rc = [(1.0,1,1.0)] + [(200 * 86400.0, 4, 1.0) for a in range(nper -1)]\n",
    "\n",
    "tdis=flopy.mf6.ModflowTdis(sim, nper=nper, time_units='seconds',perioddata=tdis_rc)"
   ]
  },
  {
   "cell_type": "code",
   "execution_count": 10,
   "id": "814c62ac",
   "metadata": {},
   "outputs": [],
   "source": [
    "# create iterative model solution and register the gwf model with it\n",
    "ims = flopy.mf6.ModflowIms(sim, linear_acceleration='BICGSTAB')"
   ]
  },
  {
   "cell_type": "code",
   "execution_count": 11,
   "id": "e7b43540",
   "metadata": {},
   "outputs": [],
   "source": [
    "# create gwf model\n",
    "gwf = flopy.mf6.ModflowGwf(sim, modelname=model_name, save_flows=True, newtonoptions=['under_relaxation'])"
   ]
  },
  {
   "cell_type": "code",
   "execution_count": 12,
   "id": "9cc8582e",
   "metadata": {},
   "outputs": [
    {
     "name": "stdout",
     "output_type": "stream",
     "text": [
      "WARNING: Unable to resolve dimension of ('gwf6', 'disv', 'cell2d', 'cell2d', 'icvert') based on shape \"ncvert\".\n"
     ]
    }
   ],
   "source": [
    "# disv\n",
    "disv = flopy.mf6.ModflowGwfdisv(gwf, nlay=nlay, ncpl=ncpl,top=mtop, botm=zbot,nvert=nvert, vertices=vertices,cell2d=cell2d)"
   ]
  },
  {
   "cell_type": "code",
   "execution_count": 13,
   "id": "c18215a1",
   "metadata": {},
   "outputs": [],
   "source": [
    "ic = flopy.mf6.ModflowGwfic(gwf, strt=np.stack([mtop for i in range(nlay)]))"
   ]
  },
  {
   "cell_type": "code",
   "execution_count": 14,
   "id": "15acba6f",
   "metadata": {},
   "outputs": [],
   "source": [
    "Kx =[1E-5,5E-4,2E-4]\n",
    "icelltype = [1,1,0]\n",
    "npf = flopy.mf6.ModflowGwfnpf(gwf,save_specific_discharge=True,icelltype=icelltype,k=Kx)"
   ]
  },
  {
   "cell_type": "code",
   "execution_count": 15,
   "id": "155909cd",
   "metadata": {},
   "outputs": [],
   "source": [
    "sto=flopy.mf6.ModflowGwfsto(gwf,ss=1e-05, sy=0.15)"
   ]
  },
  {
   "cell_type": "code",
   "execution_count": 16,
   "id": "f19a6621",
   "metadata": {},
   "outputs": [],
   "source": [
    "evtr = 1.2/365/86400\n",
    "evt = flopy.mf6.ModflowGwfevta(gwf,ievt=1,surface=mtop,rate=evtr,depth=1.0)"
   ]
  },
  {
   "cell_type": "markdown",
   "id": "a5b39df5",
   "metadata": {},
   "source": [
    "## Para insertar las condiciones de recarga se realiza una interceptacion entre el shp de la zona de recarga y la grilla, de esta manera se optiene los indices de las celdas que conforman dicha zona"
   ]
  },
  {
   "cell_type": "code",
   "execution_count": 17,
   "id": "5c9eefa9",
   "metadata": {},
   "outputs": [
    {
     "name": "stderr",
     "output_type": "stream",
     "text": [
      "C:\\Users\\jose\\anaconda3\\envs\\work_env\\lib\\site-packages\\flopy\\utils\\gridintersect.py:337: ShapelyDeprecationWarning: Setting custom attributes on geometry objects is deprecated, and will raise an AttributeError in Shapely 2.0\n",
      "  p.name = icell\n"
     ]
    }
   ],
   "source": [
    "tgr = fgrid.VertexGrid(vertices, cell2d)\n",
    "ix2 = GridIntersect(tgr)"
   ]
  },
  {
   "cell_type": "code",
   "execution_count": 18,
   "id": "1f3eaf5f",
   "metadata": {},
   "outputs": [
    {
     "data": {
      "text/html": [
       "<div>\n",
       "<style scoped>\n",
       "    .dataframe tbody tr th:only-of-type {\n",
       "        vertical-align: middle;\n",
       "    }\n",
       "\n",
       "    .dataframe tbody tr th {\n",
       "        vertical-align: top;\n",
       "    }\n",
       "\n",
       "    .dataframe thead th {\n",
       "        text-align: right;\n",
       "    }\n",
       "</style>\n",
       "<table border=\"1\" class=\"dataframe\">\n",
       "  <thead>\n",
       "    <tr style=\"text-align: right;\">\n",
       "      <th></th>\n",
       "      <th>id</th>\n",
       "      <th>zones</th>\n",
       "      <th>geometry</th>\n",
       "    </tr>\n",
       "  </thead>\n",
       "  <tbody>\n",
       "    <tr>\n",
       "      <th>0</th>\n",
       "      <td>1</td>\n",
       "      <td>zone1</td>\n",
       "      <td>MULTIPOLYGON (((353300.000 8549600.000, 356400...</td>\n",
       "    </tr>\n",
       "  </tbody>\n",
       "</table>\n",
       "</div>"
      ],
      "text/plain": [
       "   id  zones                                           geometry\n",
       "0   1  zone1  MULTIPOLYGON (((353300.000 8549600.000, 356400..."
      ]
     },
     "execution_count": 18,
     "metadata": {},
     "output_type": "execute_result"
    }
   ],
   "source": [
    "recharges_zones=gpd.read_file('../examples/In/shp/Geospatial_model/ModelRechargeZone1.shp')\n",
    "recharges_zones"
   ]
  },
  {
   "cell_type": "code",
   "execution_count": 19,
   "id": "37dfaea7",
   "metadata": {},
   "outputs": [
    {
     "data": {
      "text/html": [
       "<div>\n",
       "<style scoped>\n",
       "    .dataframe tbody tr th:only-of-type {\n",
       "        vertical-align: middle;\n",
       "    }\n",
       "\n",
       "    .dataframe tbody tr th {\n",
       "        vertical-align: top;\n",
       "    }\n",
       "\n",
       "    .dataframe thead th {\n",
       "        text-align: right;\n",
       "    }\n",
       "</style>\n",
       "<table border=\"1\" class=\"dataframe\">\n",
       "  <thead>\n",
       "    <tr style=\"text-align: right;\">\n",
       "      <th></th>\n",
       "      <th>zone1_rch</th>\n",
       "    </tr>\n",
       "  </thead>\n",
       "  <tbody>\n",
       "    <tr>\n",
       "      <th>0</th>\n",
       "      <td>6.341958e-09</td>\n",
       "    </tr>\n",
       "  </tbody>\n",
       "</table>\n",
       "</div>"
      ],
      "text/plain": [
       "      zone1_rch\n",
       "0  6.341958e-09"
      ]
     },
     "execution_count": 19,
     "metadata": {},
     "output_type": "execute_result"
    }
   ],
   "source": [
    "rch_bc=pd.read_excel('../examples/in/BC/Boundary_conditions.xlsx',sheet_name='rch')\n",
    "rch_bc"
   ]
  },
  {
   "cell_type": "code",
   "execution_count": 20,
   "id": "ec650e74",
   "metadata": {},
   "outputs": [],
   "source": [
    "#stress_period_data : [cellid, elev, cond, aux, boundname]\n",
    "rchr_list=[]\n",
    "for index, row in recharges_zones.iterrows():\n",
    "    zones=row['geometry']\n",
    "    partial = ix2.intersect(zones)\n",
    "    for idx in partial.cellids:\n",
    "        partial_rch=float(rch_bc.loc[0,row.zones+'_rch'])\n",
    "        rchr_list.append([0,idx,partial_rch])\n",
    "rchr_spd = {0:rchr_list}\n",
    "rch = flopy.mf6.ModflowGwfrch(gwf, stress_period_data=rchr_spd)"
   ]
  },
  {
   "cell_type": "markdown",
   "id": "c2fd3ca8",
   "metadata": {},
   "source": [
    "## Intersercción de pozos con la grilla"
   ]
  },
  {
   "cell_type": "code",
   "execution_count": 21,
   "id": "2fff5613",
   "metadata": {},
   "outputs": [],
   "source": [
    "well_bc=pd.read_excel('../examples/in/BC/Boundary_conditions.xlsx',sheet_name='well')\n",
    "\n",
    "well_zone=gpd.read_file('../examples/In/shp/Geospatial_model/ModelWell2.shp')\n",
    "\n",
    "well_list=[]\n",
    "for index, row in well_zone.iterrows():\n",
    "    points=row['geometry']\n",
    "    partial = ix2.intersect(points)\n",
    "    for idx in partial.cellids:\n",
    "        partial_layer=int(well_bc.loc[0,row.wells+'_layer'])\n",
    "        partial_pump=float(well_bc.loc[0,row.wells+'_pump'])\n",
    "        well_list.append([partial_layer,idx,partial_pump])\n",
    "        \n",
    "well_spd = {1:well_list}\n",
    "\n",
    "well=flopy.mf6.ModflowGwfwel(gwf,stress_period_data=well_spd)"
   ]
  },
  {
   "cell_type": "markdown",
   "id": "64ffb17a",
   "metadata": {},
   "source": [
    "## Intersección del rio con la grilla"
   ]
  },
  {
   "cell_type": "code",
   "execution_count": 22,
   "id": "c9fdb8a8",
   "metadata": {},
   "outputs": [
    {
     "data": {
      "text/html": [
       "<div>\n",
       "<style scoped>\n",
       "    .dataframe tbody tr th:only-of-type {\n",
       "        vertical-align: middle;\n",
       "    }\n",
       "\n",
       "    .dataframe tbody tr th {\n",
       "        vertical-align: top;\n",
       "    }\n",
       "\n",
       "    .dataframe thead th {\n",
       "        text-align: right;\n",
       "    }\n",
       "</style>\n",
       "<table border=\"1\" class=\"dataframe\">\n",
       "  <thead>\n",
       "    <tr style=\"text-align: right;\">\n",
       "      <th></th>\n",
       "      <th>id</th>\n",
       "      <th>rivers</th>\n",
       "      <th>geometry</th>\n",
       "    </tr>\n",
       "  </thead>\n",
       "  <tbody>\n",
       "    <tr>\n",
       "      <th>0</th>\n",
       "      <td>1</td>\n",
       "      <td>river1</td>\n",
       "      <td>POLYGON ((353391.002 8548682.961, 353494.677 8...</td>\n",
       "    </tr>\n",
       "  </tbody>\n",
       "</table>\n",
       "</div>"
      ],
      "text/plain": [
       "   id  rivers                                           geometry\n",
       "0   1  river1  POLYGON ((353391.002 8548682.961, 353494.677 8..."
      ]
     },
     "execution_count": 22,
     "metadata": {},
     "output_type": "execute_result"
    }
   ],
   "source": [
    "river_zone=gpd.read_file('../examples/In/shp/Geospatial_model/ModelRiver2.shp')\n",
    "river_zone"
   ]
  },
  {
   "cell_type": "code",
   "execution_count": 23,
   "id": "90acb890",
   "metadata": {},
   "outputs": [
    {
     "data": {
      "text/html": [
       "<div>\n",
       "<style scoped>\n",
       "    .dataframe tbody tr th:only-of-type {\n",
       "        vertical-align: middle;\n",
       "    }\n",
       "\n",
       "    .dataframe tbody tr th {\n",
       "        vertical-align: top;\n",
       "    }\n",
       "\n",
       "    .dataframe thead th {\n",
       "        text-align: right;\n",
       "    }\n",
       "</style>\n",
       "<table border=\"1\" class=\"dataframe\">\n",
       "  <thead>\n",
       "    <tr style=\"text-align: right;\">\n",
       "      <th></th>\n",
       "      <th>river1_deph</th>\n",
       "      <th>river1_cond</th>\n",
       "    </tr>\n",
       "  </thead>\n",
       "  <tbody>\n",
       "    <tr>\n",
       "      <th>0</th>\n",
       "      <td>1</td>\n",
       "      <td>0.01</td>\n",
       "    </tr>\n",
       "  </tbody>\n",
       "</table>\n",
       "</div>"
      ],
      "text/plain": [
       "   river1_deph  river1_cond\n",
       "0            1         0.01"
      ]
     },
     "execution_count": 23,
     "metadata": {},
     "output_type": "execute_result"
    }
   ],
   "source": [
    "riv_bc=pd.read_excel('../examples/in/BC/Boundary_conditions.xlsx',sheet_name='riv')\n",
    "riv_bc"
   ]
  },
  {
   "cell_type": "code",
   "execution_count": 25,
   "id": "a8274210",
   "metadata": {},
   "outputs": [],
   "source": [
    "river_list=[]\n",
    "for index, row in river_zone.iterrows():\n",
    "    zones=row['geometry']\n",
    "    partial = ix2.intersect(zones)\n",
    "    for idx in partial.cellids:\n",
    "        partial_cond=float(riv_bc.loc[0,row.rivers+'_cond'])\n",
    "        partial_deph=float(riv_bc.loc[0,row.rivers+'_deph'])\n",
    "        river_list.append([0,idx,mtop[idx],partial_cond,mtop[idx]-partial_deph])\n",
    "\n",
    "river_spd = {0:river_list}\n",
    "river=flopy.mf6.ModflowGwfriv(gwf,stress_period_data=river_spd)"
   ]
  },
  {
   "cell_type": "markdown",
   "id": "0cc317c8",
   "metadata": {},
   "source": [
    "## Condición regional de gradiente hidráulico"
   ]
  },
  {
   "cell_type": "code",
   "execution_count": 26,
   "id": "8128f7d5",
   "metadata": {},
   "outputs": [
    {
     "data": {
      "text/html": [
       "<div>\n",
       "<style scoped>\n",
       "    .dataframe tbody tr th:only-of-type {\n",
       "        vertical-align: middle;\n",
       "    }\n",
       "\n",
       "    .dataframe tbody tr th {\n",
       "        vertical-align: top;\n",
       "    }\n",
       "\n",
       "    .dataframe thead th {\n",
       "        text-align: right;\n",
       "    }\n",
       "</style>\n",
       "<table border=\"1\" class=\"dataframe\">\n",
       "  <thead>\n",
       "    <tr style=\"text-align: right;\">\n",
       "      <th></th>\n",
       "      <th>id</th>\n",
       "      <th>bounds</th>\n",
       "      <th>geometry</th>\n",
       "    </tr>\n",
       "  </thead>\n",
       "  <tbody>\n",
       "    <tr>\n",
       "      <th>0</th>\n",
       "      <td>1</td>\n",
       "      <td>left1</td>\n",
       "      <td>LINESTRING (353315.000 8549550.000, 353315.000...</td>\n",
       "    </tr>\n",
       "    <tr>\n",
       "      <th>1</th>\n",
       "      <td>2</td>\n",
       "      <td>left2</td>\n",
       "      <td>LINESTRING (353315.000 8548550.000, 353315.000...</td>\n",
       "    </tr>\n",
       "    <tr>\n",
       "      <th>2</th>\n",
       "      <td>3</td>\n",
       "      <td>right1</td>\n",
       "      <td>LINESTRING (356385.000 8549550.000, 356385.000...</td>\n",
       "    </tr>\n",
       "    <tr>\n",
       "      <th>3</th>\n",
       "      <td>4</td>\n",
       "      <td>right2</td>\n",
       "      <td>LINESTRING (356385.000 8548800.000, 356385.000...</td>\n",
       "    </tr>\n",
       "  </tbody>\n",
       "</table>\n",
       "</div>"
      ],
      "text/plain": [
       "   id  bounds                                           geometry\n",
       "0   1   left1  LINESTRING (353315.000 8549550.000, 353315.000...\n",
       "1   2   left2  LINESTRING (353315.000 8548550.000, 353315.000...\n",
       "2   3  right1  LINESTRING (356385.000 8549550.000, 356385.000...\n",
       "3   4  right2  LINESTRING (356385.000 8548800.000, 356385.000..."
      ]
     },
     "execution_count": 26,
     "metadata": {},
     "output_type": "execute_result"
    }
   ],
   "source": [
    "boundaries_zone=gpd.read_file('../examples/In/shp/Geospatial_model/ModelGHB1.shp')\n",
    "boundaries_zone"
   ]
  },
  {
   "cell_type": "code",
   "execution_count": 27,
   "id": "cd97e6bf",
   "metadata": {},
   "outputs": [
    {
     "data": {
      "text/html": [
       "<div>\n",
       "<style scoped>\n",
       "    .dataframe tbody tr th:only-of-type {\n",
       "        vertical-align: middle;\n",
       "    }\n",
       "\n",
       "    .dataframe tbody tr th {\n",
       "        vertical-align: top;\n",
       "    }\n",
       "\n",
       "    .dataframe thead th {\n",
       "        text-align: right;\n",
       "    }\n",
       "</style>\n",
       "<table border=\"1\" class=\"dataframe\">\n",
       "  <thead>\n",
       "    <tr style=\"text-align: right;\">\n",
       "      <th></th>\n",
       "      <th>left1_head</th>\n",
       "      <th>left1_cond</th>\n",
       "      <th>left2_head</th>\n",
       "      <th>left2_cond</th>\n",
       "      <th>right1_head</th>\n",
       "      <th>right1_cond</th>\n",
       "      <th>right2_head</th>\n",
       "      <th>right2_cond</th>\n",
       "    </tr>\n",
       "  </thead>\n",
       "  <tbody>\n",
       "    <tr>\n",
       "      <th>0</th>\n",
       "      <td>45</td>\n",
       "      <td>0.01</td>\n",
       "      <td>45</td>\n",
       "      <td>0.01</td>\n",
       "      <td>100</td>\n",
       "      <td>0.01</td>\n",
       "      <td>100</td>\n",
       "      <td>0.01</td>\n",
       "    </tr>\n",
       "  </tbody>\n",
       "</table>\n",
       "</div>"
      ],
      "text/plain": [
       "   left1_head  left1_cond  left2_head  left2_cond  right1_head  right1_cond  \\\n",
       "0          45        0.01          45        0.01          100         0.01   \n",
       "\n",
       "   right2_head  right2_cond  \n",
       "0          100         0.01  "
      ]
     },
     "execution_count": 27,
     "metadata": {},
     "output_type": "execute_result"
    }
   ],
   "source": [
    "ghb_bc=pd.read_excel('../examples/in/BC/Boundary_conditions.xlsx',sheet_name='ghb')\n",
    "ghb_bc"
   ]
  },
  {
   "cell_type": "code",
   "execution_count": 28,
   "id": "6cbc2549",
   "metadata": {},
   "outputs": [],
   "source": [
    "ghb_list=[]\n",
    "for index, row in boundaries_zone.iterrows():\n",
    "    lines=row['geometry']\n",
    "    partial = ix2.intersect(lines)\n",
    "    for idx in partial.cellids:\n",
    "        #ghb_list.append([0,idx,row['GHB'],0.01])\n",
    "        partial_head=float(ghb_bc.loc[0,row.bounds+'_head'])\n",
    "        partial_cond=float(ghb_bc.loc[0,row.bounds+'_cond'])\n",
    "        ghb_list.append([0,idx,partial_head,partial_cond])\n",
    "\n",
    "ghb_spd={0:ghb_list}\n",
    "ghb=flopy.mf6.ModflowGwfghb(gwf,stress_period_data=ghb_spd)"
   ]
  },
  {
   "cell_type": "code",
   "execution_count": 29,
   "id": "04d964ba",
   "metadata": {},
   "outputs": [],
   "source": [
    "hname = '{}.hds'.format(model_name)\n",
    "cname = '{}.cbc'.format(model_name)\n",
    "oc = flopy.mf6.ModflowGwfoc(gwf, budget_filerecord=cname,\n",
    " head_filerecord=hname,\n",
    " saverecord=[('HEAD', 'ALL'), ('BUDGET',\n",
    "'ALL')])"
   ]
  },
  {
   "cell_type": "code",
   "execution_count": 30,
   "id": "0968a89e",
   "metadata": {},
   "outputs": [
    {
     "name": "stdout",
     "output_type": "stream",
     "text": [
      "writing simulation...\n",
      "  writing simulation name file...\n",
      "  writing simulation tdis package...\n",
      "  writing ims package ims_-1...\n",
      "  writing model geo_model...\n",
      "    writing model name file...\n",
      "    writing package disv...\n",
      "    writing package ic...\n",
      "    writing package npf...\n",
      "    writing package sto...\n",
      "    writing package evta_0...\n",
      "    writing package rch_0...\n",
      "INFORMATION: maxbound in ('gwf6', 'rch', 'dimensions') changed to 1292 based on size of stress_period_data\n",
      "    writing package wel_0...\n",
      "INFORMATION: maxbound in ('gwf6', 'wel', 'dimensions') changed to 3 based on size of stress_period_data\n",
      "    writing package riv_0...\n",
      "INFORMATION: maxbound in ('gwf6', 'riv', 'dimensions') changed to 669 based on size of stress_period_data\n",
      "    writing package ghb_0...\n",
      "INFORMATION: maxbound in ('gwf6', 'ghb', 'dimensions') changed to 37 based on size of stress_period_data\n",
      "    writing package oc...\n",
      "FloPy is using the following executable to run the model: ../exe/mf6.exe\n",
      "                                   MODFLOW 6\n",
      "                U.S. GEOLOGICAL SURVEY MODULAR HYDROLOGIC MODEL\n",
      "                            VERSION 6.3.0 03/04/2022\n",
      "\n",
      "   MODFLOW 6 compiled Mar 02 2022 15:29:04 with Intel(R) Fortran Intel(R) 64\n",
      "   Compiler Classic for applications running on Intel(R) 64, Version 2021.5.0\n",
      "                             Build 20211109_000000\n",
      "\n",
      "This software has been approved for release by the U.S. Geological \n",
      "Survey (USGS). Although the software has been subjected to rigorous \n",
      "review, the USGS reserves the right to update the software as needed \n",
      "pursuant to further analysis and review. No warranty, expressed or \n",
      "implied, is made by the USGS or the U.S. Government as to the \n",
      "functionality of the software and related material nor shall the \n",
      "fact of release constitute any such warranty. Furthermore, the \n",
      "software is released on condition that neither the USGS nor the U.S. \n",
      "Government shall be held liable for any damages resulting from its \n",
      "authorized or unauthorized use. Also refer to the USGS Water \n",
      "Resources Software User Rights Notice for complete use, copyright, \n",
      "and distribution information.\n",
      "\n",
      " \n",
      " Run start date and time (yyyy/mm/dd hh:mm:ss): 2022/09/17 22:12:43\n",
      " \n",
      " Writing simulation list file: mfsim.lst\n",
      " Using Simulation name file: mfsim.nam\n",
      " \n",
      "    Solving:  Stress period:     1    Time step:     1\n",
      "    Solving:  Stress period:     2    Time step:     1\n",
      "    Solving:  Stress period:     2    Time step:     2\n",
      "    Solving:  Stress period:     2    Time step:     3\n",
      "    Solving:  Stress period:     2    Time step:     4\n",
      "    Solving:  Stress period:     3    Time step:     1\n",
      "    Solving:  Stress period:     3    Time step:     2\n",
      "    Solving:  Stress period:     3    Time step:     3\n",
      "    Solving:  Stress period:     3    Time step:     4\n",
      "    Solving:  Stress period:     4    Time step:     1\n",
      "    Solving:  Stress period:     4    Time step:     2\n",
      "    Solving:  Stress period:     4    Time step:     3\n",
      "    Solving:  Stress period:     4    Time step:     4\n",
      "    Solving:  Stress period:     5    Time step:     1\n",
      "    Solving:  Stress period:     5    Time step:     2\n",
      "    Solving:  Stress period:     5    Time step:     3\n",
      "    Solving:  Stress period:     5    Time step:     4\n",
      "    Solving:  Stress period:     6    Time step:     1\n",
      "    Solving:  Stress period:     6    Time step:     2\n",
      "    Solving:  Stress period:     6    Time step:     3\n",
      "    Solving:  Stress period:     6    Time step:     4\n",
      "    Solving:  Stress period:     7    Time step:     1\n",
      "    Solving:  Stress period:     7    Time step:     2\n",
      "    Solving:  Stress period:     7    Time step:     3\n",
      "    Solving:  Stress period:     7    Time step:     4\n",
      "    Solving:  Stress period:     8    Time step:     1\n",
      "    Solving:  Stress period:     8    Time step:     2\n",
      "    Solving:  Stress period:     8    Time step:     3\n",
      "    Solving:  Stress period:     8    Time step:     4\n",
      "    Solving:  Stress period:     9    Time step:     1\n",
      "    Solving:  Stress period:     9    Time step:     2\n",
      "    Solving:  Stress period:     9    Time step:     3\n",
      "    Solving:  Stress period:     9    Time step:     4\n",
      "    Solving:  Stress period:    10    Time step:     1\n",
      "    Solving:  Stress period:    10    Time step:     2\n",
      "    Solving:  Stress period:    10    Time step:     3\n",
      "    Solving:  Stress period:    10    Time step:     4\n",
      "    Solving:  Stress period:    11    Time step:     1\n",
      "    Solving:  Stress period:    11    Time step:     2\n",
      "    Solving:  Stress period:    11    Time step:     3\n",
      "    Solving:  Stress period:    11    Time step:     4\n",
      " \n",
      " Run end date and time (yyyy/mm/dd hh:mm:ss): 2022/09/17 22:12:44\n",
      " Elapsed run time:  1.801 Seconds\n",
      " \n",
      " Normal termination of simulation.\n"
     ]
    },
    {
     "data": {
      "text/plain": [
       "(True, [])"
      ]
     },
     "execution_count": 30,
     "metadata": {},
     "output_type": "execute_result"
    }
   ],
   "source": [
    "sim.write_simulation()\n",
    "sim.run_simulation()"
   ]
  },
  {
   "cell_type": "markdown",
   "id": "5ff09704",
   "metadata": {},
   "source": [
    "# PLOTS"
   ]
  },
  {
   "cell_type": "code",
   "execution_count": 31,
   "id": "70ae267a",
   "metadata": {},
   "outputs": [
    {
     "data": {
      "image/png": "[encoded data removed]",
      "text/plain": [
       "<Figure size 864x864 with 2 Axes>"
      ]
     },
     "metadata": {
      "needs_background": "light"
     },
     "output_type": "display_data"
    }
   ],
   "source": [
    "hds = bf.HeadFile(model_ws+'/'+model_name + '.hds')\n",
    "head = hds.get_data()\n",
    "head[head==1e+30]=np.nan\n",
    "cpth = os.path.join(model_ws, model_name+'.cbc')\n",
    "cobj = flopy.utils.CellBudgetFile(cpth, precision=hds.precision)\n",
    "spd = cobj.get_data(text='DATA-SPDIS')[0]\n",
    "\n",
    "fig = plt.figure(figsize=(12, 12))\n",
    "ax = fig.add_subplot(1, 1, 1, aspect='equal')\n",
    "mapview = flopy.plot.PlotMapView(model=gwf)\n",
    "\n",
    "levels = np.linspace(np.nanmin(head),np.nanmax(head),num=50)\n",
    "contour_set = mapview.contour_array(head,levels=levels)\n",
    "t = ax.set_title(\"Model Heads\")\n",
    "plt.colorbar(contour_set, shrink=0.75)\n",
    "plt.show()"
   ]
  },
  {
   "cell_type": "code",
   "execution_count": null,
   "id": "537f47fb",
   "metadata": {},
   "outputs": [],
   "source": []
  }
 ],
 "metadata": {
  "kernelspec": {
   "display_name": "Python 3 (ipykernel)",
   "language": "python",
   "name": "python3"
  },
  "language_info": {
   "codemirror_mode": {
    "name": "ipython",
    "version": 3
   },
   "file_extension": ".py",
   "mimetype": "text/x-python",
   "name": "python",
   "nbconvert_exporter": "python",
   "pygments_lexer": "ipython3",
   "version": "3.8.5"
  }
 },
 "nbformat": 4,
 "nbformat_minor": 5
}
